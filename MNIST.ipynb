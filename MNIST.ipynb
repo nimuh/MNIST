{
  "nbformat": 4,
  "nbformat_minor": 0,
  "metadata": {
    "colab": {
      "name": "MNIST.ipynb",
      "version": "0.3.2",
      "provenance": [],
      "collapsed_sections": []
    },
    "kernelspec": {
      "name": "python3",
      "display_name": "Python 3"
    },
    "accelerator": "GPU"
  },
  "cells": [
    {
      "metadata": {
        "id": "vaEG_-C9Ey-E",
        "colab_type": "code",
        "colab": {}
      },
      "cell_type": "code",
      "source": [
        "import numpy as np\n",
        "import mnist\n",
        "import matplotlib.pyplot as plt\n",
        "import math"
      ],
      "execution_count": 0,
      "outputs": []
    },
    {
      "metadata": {
        "id": "YsqkrLm-E3Ex",
        "colab_type": "code",
        "colab": {
          "base_uri": "https://localhost:8080/",
          "height": 119
        },
        "outputId": "a573cb0a-5572-429c-d297-950cc25f52ea"
      },
      "cell_type": "code",
      "source": [
        "mnist.init()\n",
        "x_train, t_train, x_test, t_test = mnist.load()"
      ],
      "execution_count": 2,
      "outputs": [
        {
          "output_type": "stream",
          "text": [
            "Downloading train-images-idx3-ubyte.gz...\n",
            "Downloading t10k-images-idx3-ubyte.gz...\n",
            "Downloading train-labels-idx1-ubyte.gz...\n",
            "Downloading t10k-labels-idx1-ubyte.gz...\n",
            "Download complete.\n",
            "Save complete.\n"
          ],
          "name": "stdout"
        }
      ]
    },
    {
      "metadata": {
        "id": "IzTdPlYOypJd",
        "colab_type": "text"
      },
      "cell_type": "markdown",
      "source": [
        "## Output and Loss \n",
        "We define the output function as the softmax function and the loss function we are trying to minimize as the cross entropy loss."
      ]
    },
    {
      "metadata": {
        "id": "9EEMxvcaFG6c",
        "colab_type": "code",
        "colab": {}
      },
      "cell_type": "code",
      "source": [
        "def softmax(z):\n",
        "  return np.exp(z)/np.sum(np.exp(z), axis=1, keepdims=True)\n",
        "\n",
        "def cross_entropy_loss(predicted, targets):\n",
        "  logPT = 0\n",
        "  for i in range(10):\n",
        "    if (targets[i] == 1): logPT = logPT + -np.log(predicted[i]+1e-10)\n",
        "    else: logPT = logPT + -np.log(1 - predicted[i] + 1e-10)\n",
        "  return logPT"
      ],
      "execution_count": 0,
      "outputs": []
    },
    {
      "metadata": {
        "id": "e2dP6GiDy5cU",
        "colab_type": "text"
      },
      "cell_type": "markdown",
      "source": [
        "## Utility Functions\n",
        "## get_batches()\n",
        "We define the function get_batches that returns and equal sized subsets of our input data.\n",
        "## clip()\n",
        "We clip the input given to the softmax function at a specified threshold. This fixes the stability issue when using the softmax function."
      ]
    },
    {
      "metadata": {
        "id": "uUNLMQD7dlXK",
        "colab_type": "code",
        "colab": {}
      },
      "cell_type": "code",
      "source": [
        "def get_batches(batch_size, X, y):\n",
        "  batches_train = []\n",
        "  batches_target = []\n",
        "  for i in range(0, len(X), batch_size):\n",
        "    batches_train.append(X[i:i+batch_size])\n",
        "    batches_target.append(y[i:i+batch_size])\n",
        "  return batches_train, batches_target"
      ],
      "execution_count": 0,
      "outputs": []
    },
    {
      "metadata": {
        "id": "obh1G582pHJb",
        "colab_type": "code",
        "colab": {}
      },
      "cell_type": "code",
      "source": [
        "def clip(z, thresh):\n",
        "  for i in range(z.shape[0]):\n",
        "    for j in range(z.shape[1]):\n",
        "      if (math.isnan(z[i][j])):\n",
        "        z[i][j] = thresh\n",
        "      elif (z[i][j] > thresh):\n",
        "        z[i][j] = thresh\n",
        "      elif (z[i][j] < -thresh):\n",
        "        z[i][j] = -thresh"
      ],
      "execution_count": 0,
      "outputs": []
    },
    {
      "metadata": {
        "id": "s9i7Jw3bzd3h",
        "colab_type": "text"
      },
      "cell_type": "markdown",
      "source": [
        "## init_weights()\n",
        "Initializes the weights of the network.\n",
        "## init_momentum()\n",
        "Initializes the momentum used for training the network.\n",
        "## shuffle_data()\n",
        "Shuffles our training data.\n"
      ]
    },
    {
      "metadata": {
        "id": "XeEqPbHALiP8",
        "colab_type": "code",
        "colab": {}
      },
      "cell_type": "code",
      "source": [
        "def init_weights(layer_units_1, layer_units_2):\n",
        "  np.random.seed(1)\n",
        "  w0 = np.random.randn(784, layer_units_1)*np.sqrt(2/784)\n",
        "  w1 = np.random.randn(layer_units_1, layer_units_2)*np.sqrt(2/(layer_units_1+layer_units_2))\n",
        "  w2 = np.random.randn(layer_units_2,10)*np.sqrt(2/(layer_units_1+784))\n",
        "  return w0, w1, w2\n",
        "\n",
        "def init_momentum(layer_units_1, layer_units_2):\n",
        "  V_0 = np.zeros((784, layer_units_1))\n",
        "  V_1 = np.zeros((layer_units_1, layer_units_2))\n",
        "  V_2 = np.zeros((layer_units_2, 10))\n",
        "  return V_0, V_1, V_2\n",
        "\n",
        "def shuffle_data(X, y, num_examples):\n",
        "  shuffled_idx_train = np.random.permutation(num_examples)\n",
        "  shuffled_idx_test = np.random.permutation(X.shape[0]-num_examples)\n",
        "  training_samples, training_targets = X[shuffled_idx_train], y[shuffled_idx_train]\n",
        "  \n",
        "  shuffled_idx_test += (num_examples-1)\n",
        "  test_samples, test_targets = X[shuffled_idx_test], y[shuffled_idx_test]\n",
        "  return training_samples, training_targets, test_samples, test_targets\n",
        "\n",
        "# The forward propagation for out 2-layer network\n",
        "def forward_prop(inputs, targets, w0, w1, w2, b0, b1, b2):\n",
        "  t = np.dot(inputs, w0) + b0   # linear transform layer 0\n",
        "  h = np.maximum(t, 0)          # activation layer 1\n",
        "  g = np.dot(h, w1) + b1        # linear transform layer 1\n",
        "  f = np.maximum(g, 0)          # activation layer 2\n",
        "  z = np.dot(f, w2) + b2        # linear transform layer 2\n",
        "  clip(z, 16)                   # stability fix for softmax\n",
        "  out = softmax(z)              # output\n",
        "  return out, f, h\n",
        "\n",
        "# The cross entropy loss on a single batch when training\n",
        "def batch_loss(predicted, actual):\n",
        "  loss = 0\n",
        "  for i in range(len(predicted)):\n",
        "    loss = loss + (cross_entropy_loss(predicted[i], actual[i]))\n",
        "  return loss\n",
        "\n",
        "# Added regularization to loss function\n",
        "def L2_output_loss(reg, weight1, weight2, weight3):\n",
        "    weight1_loss = (reg/2.0) * np.sum(weight1 * weight1)\n",
        "    weight2_loss = (reg/2.0) * np.sum(weight2 * weight2)\n",
        "    weight3_loss = (reg/2.0) * np.sum(weight3 * weight3)\n",
        "    return weight1_loss + weight2_loss + weight3_loss\n",
        "\n",
        "# Computes the error of the outputs for a single batch\n",
        "def batch_error(predicted, actual):\n",
        "  error = (predicted - actual) / predicted.shape[0]                   \n",
        "  return error\n",
        "\n",
        "# These three functions compute the gradients for the three layers in the \n",
        "# 2-layer neural network\n",
        "def gradient_layer2_weights(errors, h2):\n",
        "  return np.dot(h2.T, errors)\n",
        "\n",
        "def gradient_layer1_weights(errors, second_layer_weights, h2, h1):\n",
        "  dL_df = errors.dot(second_layer_weights.T)\n",
        "  dL_df[h2 <= 0] = 0                    # element-wise multiplication of deriv\n",
        "  dL_dg = dL_df\n",
        "  dL_dw1 = dL_dg.T.dot(h1)\n",
        "  return dL_dw1, np.sum(dL_df, axis=0, keepdims=True)\n",
        "\n",
        "def gradient_layer0_weights(batch, errors, l2_weights, l1_weights, h2, h1):\n",
        "  dL_df = np.dot(errors, l2_weights.T)\n",
        "  dL_df[h2 <= 0] = 0                   \n",
        "  dL_dg = np.dot(dL_df, l1_weights.T)\n",
        "  dL_dg[h1 <= 0] = 0                   \n",
        "  dL_dw0 = np.dot(batch.T, dL_dg)\n",
        "  return dL_dw0, np.sum(dL_dg, axis=0, keepdims=True)"
      ],
      "execution_count": 0,
      "outputs": []
    },
    {
      "metadata": {
        "id": "5gSFlde9Eft_",
        "colab_type": "code",
        "colab": {}
      },
      "cell_type": "code",
      "source": [
        "def predict(X, t, batch_size, weights_0, weights_1, weights_2, b0, b1, b2):\n",
        "  \n",
        "  X = np.array(X)\n",
        "  t = np.array(t)\n",
        "  predictions = []\n",
        "  batches_test_input, batches_test_target = get_batches(batch_size, X, t)\n",
        "  \n",
        "  test_loss = 0\n",
        "  for batch in range(len(batches_test_input)):\n",
        "    t = np.dot(batches_test_input[batch], weights_0) + b0\n",
        "    h = np.maximum(t, 0)             \n",
        "    g = np.dot(h, weights_1) + b1         \n",
        "    f = np.maximum(g, 0)            \n",
        "    z = np.dot(f, weights_2) + b2 \n",
        "    out = softmax(z)              \n",
        "    test_loss = test_loss + batch_loss(out, batches_test_target[batch])\n",
        "    \n",
        "    for pred in range(len(out)):\n",
        "      predictions.append(out[pred])\n",
        "    \n",
        "  return predictions, test_loss"
      ],
      "execution_count": 0,
      "outputs": []
    },
    {
      "metadata": {
        "id": "EEPFG_MgmwDW",
        "colab_type": "text"
      },
      "cell_type": "markdown",
      "source": [
        "## Training algorithm for the 2-layer network"
      ]
    },
    {
      "metadata": {
        "id": "TwhTNVTlFJ-p",
        "colab_type": "code",
        "colab": {}
      },
      "cell_type": "code",
      "source": [
        "def train_network(X, y, num, batch_size, learning_rate, decay, beta, epochs, layer_units_1, layer_units_2):\n",
        "    \n",
        "    loss_all = []\n",
        "    all_epochs = []\n",
        "    test_loss = []\n",
        "    \n",
        "    # weight initialization\n",
        "    w0, w1, w2 = init_weights(layer_units_1, layer_units_2)\n",
        "    \n",
        "    # biases initialization\n",
        "    b0 = 0 \n",
        "    b1 = 0 \n",
        "    b2 = 0\n",
        "        \n",
        "    # initialization of momentum values\n",
        "    V_0, V_1, V_2 = init_momentum(layer_units_1, layer_units_2)\n",
        "        \n",
        "    # shuffle data\n",
        "    X_train, y_train, X_test, y_test = shuffle_data(X, y, num)\n",
        "    \n",
        "    # get mini-batches\n",
        "    batches_train, batches_target = get_batches(batch_size, X_train, y_train)\n",
        "    \n",
        "    # SGD/mini-batch\n",
        "    overall_loss = 0\n",
        "    for epoch in range(0, epochs):\n",
        "      \n",
        "      # decay the learning_rate\n",
        "      if (epoch % 10 == 0): learning_rate -= decay\n",
        "        \n",
        "      overall_loss = 0\n",
        "      print(\"EPOCH:\", epoch)\n",
        "      all_epochs.append(epoch)\n",
        "      \n",
        "      # validation\n",
        "      preds, t_loss = predict(X_test, y_test, batch_size, w0, w1, w2, b0, b1, b2)\n",
        "      \n",
        "      for batch in range(len(batches_train)):\n",
        "        \n",
        "                              ## FORWARD PROPAGATION ##\n",
        "        \n",
        "        out, hidden_l2, hidden_l1 = forward_prop(batches_train[batch], \n",
        "                                                 batches_target[batch],\n",
        "                                                 w0,\n",
        "                                                 w1,\n",
        "                                                 w2,\n",
        "                                                 b0,\n",
        "                                                 b1,\n",
        "                                                 b2)\n",
        "       \n",
        "        # loss for batch\n",
        "        overall_loss = overall_loss + batch_loss(out, batches_target[batch])\n",
        "        overall_loss += L2_output_loss(0.5, w0, w1, w2)\n",
        "        \n",
        "        # batch error\n",
        "        errors = batch_error(out, batches_target[batch])\n",
        "            \n",
        "                              ## COMPUTE GRADIENTS ##\n",
        "                \n",
        "        dw2 = gradient_layer2_weights(errors, hidden_l2)\n",
        "        db2 = np.sum(errors, axis=0, keepdims=True)\n",
        "        dw1, db1 = gradient_layer1_weights(errors, \n",
        "                                      w2, \n",
        "                                      hidden_l2, \n",
        "                                      hidden_l1)\n",
        "        dw0, db0 = gradient_layer0_weights(batches_train[batch],\n",
        "                                      errors,\n",
        "                                      w2,\n",
        "                                      w1,\n",
        "                                      hidden_l2,\n",
        "                                      hidden_l1)\n",
        "        \n",
        "        # apply momentum\n",
        "        V_0 = beta * V_0 + (1-beta)*dw0\n",
        "        V_1 = beta * V_1 + (1-beta)*dw1.T\n",
        "        V_2 = beta * V_2 + (1-beta)*dw2\n",
        "       \n",
        "        # update weights and biases\n",
        "        w2 -= learning_rate*V_2\n",
        "        w1 -= learning_rate*V_1\n",
        "        w0 -= learning_rate*V_0\n",
        "        \n",
        "        b2 -= learning_rate*db2\n",
        "        b1 -= learning_rate*db1\n",
        "        b0 -= learning_rate*db0\n",
        "                \n",
        "      print(\"LOSS:\", overall_loss/X_train.shape[0])\n",
        "      loss_all.append(overall_loss / X_train.shape[0])\n",
        "      test_loss.append(t_loss / X_test.shape[0])\n",
        "      \n",
        "    return w0, w1, w2, b0, b1, b2, loss_all, test_loss, all_epochs\n",
        "      "
      ],
      "execution_count": 0,
      "outputs": []
    },
    {
      "metadata": {
        "id": "-lA-DI9VFNI3",
        "colab_type": "code",
        "colab": {}
      },
      "cell_type": "code",
      "source": [
        "\n",
        "# normalize training data\n",
        "x_train = x_train / 255\n",
        "# one-hot encoding of targets\n",
        "training_targets = []\n",
        "for t in range(0, 60000):\n",
        "  y_t = np.zeros(10)\n",
        "  y_t[t_train[t]] = 1\n",
        "  training_targets.append(y_t)\n",
        "\n",
        "training_targets = np.array(training_targets)"
      ],
      "execution_count": 0,
      "outputs": []
    },
    {
      "metadata": {
        "id": "A9V-V1SCH3p4",
        "colab_type": "code",
        "colab": {}
      },
      "cell_type": "code",
      "source": [
        "l_rate = 0.01\n",
        "decay = 0\n",
        "batch_nu = 200\n",
        "epochs = 50\n",
        "hidden_units_1 = 300\n",
        "hidden_units_2 = 200\n",
        "num_examples = 60000\n",
        "training_nu = 50000\n",
        "m_rate = 0.9\n",
        "training_data = x_train[:num_examples]\n",
        "target_data = training_targets[:num_examples]\n",
        "weight0, weight1, weight2, b0, b1, b2, loss, test_loss, iters = train_network(\n",
        "                                                       training_data, \n",
        "                                                       target_data, \n",
        "                                                       training_nu,\n",
        "                                                       batch_nu,\n",
        "                                                       l_rate,\n",
        "                                                       decay,\n",
        "                                                       m_rate, \n",
        "                                                       epochs, \n",
        "                                                       hidden_units_1,\n",
        "                                                       hidden_units_2\n",
        "                                                       )"
      ],
      "execution_count": 0,
      "outputs": []
    },
    {
      "metadata": {
        "id": "4sBewdwW4u_b",
        "colab_type": "code",
        "colab": {
          "base_uri": "https://localhost:8080/",
          "height": 376
        },
        "outputId": "11651dc2-3447-4668-af8c-36e0aee9e206"
      },
      "cell_type": "code",
      "source": [
        "plt.plot(iters, loss, label='Training Loss')\n",
        "plt.plot(iters, test_loss, label='Validation Loss')\n",
        "plt.title(\"Training and Validation Loss\")\n",
        "plt.ylabel(\"Loss\")\n",
        "plt.xlabel(\"Epoch\")\n",
        "plt.legend()\n",
        "plt.show()"
      ],
      "execution_count": 11,
      "outputs": [
        {
          "output_type": "display_data",
          "data": {
            "image/png": "[encoded data removed]",
            "text/plain": [
              "<matplotlib.figure.Figure at 0x7f2b94a72d30>"
            ]
          },
          "metadata": {
            "tags": []
          }
        }
      ]
    },
    {
      "metadata": {
        "id": "gMlBhIsq6_0T",
        "colab_type": "code",
        "colab": {}
      },
      "cell_type": "code",
      "source": [
        "# normalize test input\n",
        "x_test = x_test / 255\n",
        "\n",
        "# one-hot encoding of targets for test\n",
        "test_targets = []\n",
        "for t in range(0, 10000):\n",
        "  y_t = np.zeros(10)\n",
        "  y_t[t_test[t]] = 1\n",
        "  test_targets.append(y_t)\n",
        "\n",
        "preds, t = predict(x_test, test_targets, batch_nu, weight0, weight1, weight2, b0, b1, b2)"
      ],
      "execution_count": 0,
      "outputs": []
    },
    {
      "metadata": {
        "id": "Knr3GOBXMtkK",
        "colab_type": "code",
        "colab": {}
      },
      "cell_type": "code",
      "source": [
        "# One-hot encodings of predictions\n",
        "for i in range(len(preds)):\n",
        "  for j in range(len(preds[i])):\n",
        "      preds[i][j] = int(round(preds[i][j]))"
      ],
      "execution_count": 0,
      "outputs": []
    },
    {
      "metadata": {
        "id": "zGamWNaGfm3f",
        "colab_type": "code",
        "colab": {}
      },
      "cell_type": "code",
      "source": [
        "# Test trained model\n",
        "correct = 0\n",
        "for i in range(len(preds)):\n",
        "  if ( (preds[i] != test_targets[i]).any() ):\n",
        "    continue\n",
        "  else:\n",
        "    correct = correct + 1"
      ],
      "execution_count": 0,
      "outputs": []
    },
    {
      "metadata": {
        "id": "Tm4MqJVOgfaH",
        "colab_type": "code",
        "colab": {
          "base_uri": "https://localhost:8080/",
          "height": 51
        },
        "outputId": "adc0b6c5-ac32-46a2-fcb5-8730803ab156"
      },
      "cell_type": "code",
      "source": [
        "print(\"TEST ACCURACY: \")\n",
        "print( 100 * (correct / 10000) )"
      ],
      "execution_count": 15,
      "outputs": [
        {
          "output_type": "stream",
          "text": [
            "TEST ACCURACY: \n",
            "94.62\n"
          ],
          "name": "stdout"
        }
      ]
    },
    {
      "metadata": {
        "id": "I-e_Nc5XCmWr",
        "colab_type": "text"
      },
      "cell_type": "markdown",
      "source": [
        "## Explanation\n",
        "After some experiments, the training was done witha learning rate of 0.01, batch sizes of 200, and 60,000 samples (50,000 for training and 10,000 for validation/test). The architecture is a feed-forward neural network with two hidden ReLU layers, the first hidden layer containing 300 neurons and the second hidden layer containing 200 neurons. The training was done for 50 epochs. The negative log-likelihood is used to maximize the maximum likelihood function. As the figure shows above, the negative log-likelihood is clearly minimized the longer we train the network. Momentum was used to speed up the stochastic gradient descent, which was used to update the weights of the network. For each epoch of training, we test the current model by evaluating the loss on a chunk of the training data that we did not use for training. This is the validation loss and should decrease along with the training loss, which is the case as the figure above shows. "
      ]
    },
    {
      "metadata": {
        "id": "dHwUrXBRZyAq",
        "colab_type": "text"
      },
      "cell_type": "markdown",
      "source": [
        "## Overfitting"
      ]
    },
    {
      "metadata": {
        "id": "jXzEdKkMFF9s",
        "colab_type": "code",
        "colab": {}
      },
      "cell_type": "code",
      "source": [
        "def forward_prop_singleLayer(inputs, targets, weight1, weight2, bias1, bias2):\n",
        "  first = np.dot(inputs, weight1) + bias1\n",
        "  activ = np.maximum(first, 0)\n",
        "  second = np.dot(activ, weight2) + bias2\n",
        "  clip(second, 16)\n",
        "  output = softmax(second)\n",
        "  loss = batch_loss(output, targets) + L2_output_loss(0.5, weight1, weight2, 0)\n",
        "  return output, activ, loss\n",
        "\n",
        "def predict_singleLayer_network(data, t, b_size, w1, w2, b1, b2):\n",
        "  test_input, test_target = get_batches(b_size, data, t)\n",
        "  all_loss = 0\n",
        "  predictions = []\n",
        "  for batch in range(len(test_input)):\n",
        "    out, _, test_loss = forward_prop_singleLayer(test_input[batch],\n",
        "                                                 test_target[batch],\n",
        "                                                 w1,\n",
        "                                                 w2,\n",
        "                                                 b1,\n",
        "                                                 b2)\n",
        "    all_loss += test_loss\n",
        "    \n",
        "    for i in range(len(out)):\n",
        "      predictions.append(out[i])\n",
        "      \n",
        "  return predictions, (all_loss / data.shape[0])\n",
        "\n",
        "\n",
        "def single_layer_network(data, t, l_rate, b_size, tr_num, hidd_nu, beta, epchs):\n",
        "  w1, _, w2= init_weights(hidd_nu, hidd_nu)\n",
        "  v1, _, v2 = init_momentum(hidd_nu, hidd_nu)\n",
        "  b1 = 0\n",
        "  b2 = 0\n",
        "  val_loss_per_epoch = []\n",
        "  training_loss_per_epoch = []\n",
        "  all_epochs = []\n",
        "  \n",
        "  X_tr, y_tr, X_t, y_t = shuffle_data(data, t, tr_num)\n",
        "  batches_x_tr, batches_y_tr = get_batches(b_size, X_tr, y_tr)\n",
        "  \n",
        "  for epoch in range(epchs):\n",
        "    \n",
        "    all_epochs.append(epoch)\n",
        "    overall_loss_epoch = 0\n",
        "    _, test_loss = predict_singleLayer_network(X_t, y_t, b_size, w1, w2, b1, b2)\n",
        "    val_loss_per_epoch.append(test_loss)\n",
        "    \n",
        "    for batch in range(len(batches_x_tr)):\n",
        "      out, h, loss = forward_prop_singleLayer(batches_x_tr[batch],\n",
        "                                              batches_y_tr[batch],\n",
        "                                              w1,\n",
        "                                              w2,\n",
        "                                              b1,\n",
        "                                              b2)\n",
        "      \n",
        "      overall_loss_epoch += loss \n",
        "      errors = batch_error(out, batches_y_tr[batch])\n",
        "      \n",
        "      dw2 = gradient_layer2_weights(errors, h)\n",
        "      dw2 += 0.01*w2\n",
        "      db2 = np.sum(errors, axis=0, keepdims=True)\n",
        "      dw1, db1 = gradient_layer1_weights(errors, \n",
        "                                      w2, \n",
        "                                      h, \n",
        "                                      batches_x_tr[batch])\n",
        "      dw1 += 0.01*w1.T\n",
        "      \n",
        "      v1 = beta*v1 + (1-beta)*dw1.T\n",
        "      v2 = beta*v2 + (1-beta)*dw2\n",
        "      \n",
        "      w1 -= l_rate*dw1.T\n",
        "      w2 -= l_rate*dw2\n",
        "      \n",
        "      b1 -= l_rate*db1\n",
        "      b2 -= l_rate*db2\n",
        "    \n",
        "    \n",
        "    training_loss_per_epoch.append(overall_loss_epoch/tr_num)\n",
        "    \n",
        "  return training_loss_per_epoch, val_loss_per_epoch, all_epochs"
      ],
      "execution_count": 0,
      "outputs": []
    },
    {
      "metadata": {
        "id": "7h-Nn6lb1RtL",
        "colab_type": "code",
        "colab": {}
      },
      "cell_type": "code",
      "source": [
        "# normalize test input\n",
        "x_test = x_test / 255\n",
        "\n",
        "# one-hot encoding of targets for test\n",
        "t_targets = []\n",
        "for t in range(0, 10000):\n",
        "  y_t = np.zeros(10)\n",
        "  y_t[t_test[t]] = 1\n",
        "  t_targets.append(y_t)\n",
        "t_targets = np.array(t_targets)\n",
        "\n"
      ],
      "execution_count": 0,
      "outputs": []
    },
    {
      "metadata": {
        "id": "7THkXPEJGcr4",
        "colab_type": "code",
        "colab": {}
      },
      "cell_type": "code",
      "source": [
        "# one-hot encoding of targets\n",
        "targets = []\n",
        "for t in range(0, 60000):\n",
        "  y_t = np.zeros(10)\n",
        "  y_t[t_train[t]] = 1\n",
        "  targets.append(y_t)\n",
        "targets = np.array(targets)                                         "
      ],
      "execution_count": 0,
      "outputs": []
    },
    {
      "metadata": {
        "id": "jFPL1uOTM0wf",
        "colab_type": "code",
        "colab": {}
      },
      "cell_type": "code",
      "source": [
        "inputs = x_test[:6000]\n",
        "t = targets[:6000]\n",
        "learning_rate = 0.01\n",
        "batch_size = 10\n",
        "number_to_train = 10\n",
        "hidden_nu = 10\n",
        "momentum = 0.9\n",
        "epochs = 500\n",
        "training_loss, val_loss, all_epochs = single_layer_network(inputs, t, \n",
        "                                                           learning_rate, \n",
        "                                                           batch_size,\n",
        "                                                           number_to_train,\n",
        "                                                           hidden_nu,\n",
        "                                                           momentum,\n",
        "                                                           epochs)"
      ],
      "execution_count": 0,
      "outputs": []
    },
    {
      "metadata": {
        "id": "uWiluJN1d_y7",
        "colab_type": "code",
        "colab": {
          "base_uri": "https://localhost:8080/",
          "height": 376
        },
        "outputId": "2d0c91dc-515b-4f40-dc41-79be5b85ef4b"
      },
      "cell_type": "code",
      "source": [
        "plt.plot(all_epochs, training_loss, label=\"Training Loss\")\n",
        "plt.plot(all_epochs, val_loss, label=\"Validation Loss\")\n",
        "plt.title(\"Loss of 1-layer model\")\n",
        "plt.xlabel(\"Epoch\")\n",
        "plt.ylabel(\"Cross-entropy loss\")\n",
        "plt.legend()\n",
        "plt.show()"
      ],
      "execution_count": 20,
      "outputs": [
        {
          "output_type": "display_data",
          "data": {
            "image/png": "[encoded data removed]",
            "text/plain": [
              "<matplotlib.figure.Figure at 0x7f2b943d76d8>"
            ]
          },
          "metadata": {
            "tags": []
          }
        }
      ]
    },
    {
      "metadata": {
        "id": "AEZidYMEeU2h",
        "colab_type": "text"
      },
      "cell_type": "markdown",
      "source": [
        "Overfitting occurs when the network is able to attain a a low loss on a training set of data, but when used on the test data the loss increases with the more epochs of training on the training data. Given a small subset of the training data (10 samples) it is shown above that a 1-layer model can achieve a low loss with enough training. Generally, if we take a small subset of the training data and do \"a lot\" of training on that data the model will not generalize well and will then perform poorly when tested on the test data, leading to an increased loss on the test data with the more epochs of training we do. It is better to train on a data set that that better represents the distribution of the whole data set that way the model generalizes better."
      ]
    }
  ]
}